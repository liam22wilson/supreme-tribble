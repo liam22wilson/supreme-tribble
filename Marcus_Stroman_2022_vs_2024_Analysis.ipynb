{
 "cells": [
  {
   "cell_type": "markdown",
   "metadata": {},
   "source": [
    "Marcus Stroman had a career year as recently as 2022, posting an 0.89 ERA in July, a 2.06 ERA on the road (fourth lowest among MLB pitchers, second-lowest in the National League), and accumulating 2.7 WAR, his second-highest total since his 2019 All-Star season with the Blue Jays. However, in 2024 with the Yankees, Stroman struggled mightily after posting a strong start to the year, finally being bumped from the starting rotation and not appearing in the postseason. What changed in his arsenal that may have triggered this? "
   ]
  },
  {
   "cell_type": "code",
   "execution_count": 2,
   "metadata": {},
   "outputs": [
    {
     "name": "stdout",
     "output_type": "stream",
     "text": [
      "/Users/liam/Downloads\n"
     ]
    }
   ],
   "source": [
    "import os\n",
    "import pandas as pd\n",
    "\n",
    "downloads_path = os.path.join(os.path.expanduser(\"~\"), \"Downloads\")\n",
    "print(downloads_path)"
   ]
  },
  {
   "cell_type": "markdown",
   "metadata": {},
   "source": [
    "Marcus Stroman's 2022 pitching data is listed as Data1, and his 2024 pitching data is listed as Data2."
   ]
  },
  {
   "cell_type": "code",
   "execution_count": 3,
   "metadata": {},
   "outputs": [],
   "source": [
    "csv_file_path = os.path.join(downloads_path, 'Stroman_2022.csv')\n",
    "data22 = pd.read_csv(csv_file_path)\n",
    "csv_file_path_2 = os.path.join(downloads_path, 'Stroman_2024.csv')\n",
    "data24 = pd.read_csv(csv_file_path_2)"
   ]
  },
  {
   "cell_type": "code",
   "execution_count": 4,
   "metadata": {},
   "outputs": [
    {
     "name": "stdout",
     "output_type": "stream",
     "text": [
      "2022 pitch velocity: pitch_type\n",
      "FC    90.013537\n",
      "FF    92.605028\n",
      "FS    87.042912\n",
      "SI    91.975651\n",
      "SL    86.360360\n",
      "SV    84.624903\n",
      "Name: release_speed, dtype: float64\n",
      "2024 pitch velocity: pitch_type\n",
      "CU    76.184058\n",
      "FC    88.134227\n",
      "FF    89.936111\n",
      "FS    83.311945\n",
      "SI    89.972593\n",
      "SL    85.313679\n",
      "SV    82.248780\n",
      "Name: release_speed, dtype: float64\n"
     ]
    }
   ],
   "source": [
    "print(\"2022 pitch velocity:\", data22.groupby('pitch_type').release_speed.mean())\n",
    "print(\"2024 pitch velocity:\", data24.groupby('pitch_type').release_speed.mean())"
   ]
  },
  {
   "cell_type": "markdown",
   "metadata": {},
   "source": [
    "In 2022 Stroman threw a cutter, 4-seam, split-finger, sinker, slider, and slurve. In 2024, Stroman added a curveball to that arsenal.\n"
   ]
  },
  {
   "cell_type": "code",
   "execution_count": 5,
   "metadata": {},
   "outputs": [
    {
     "name": "stdout",
     "output_type": "stream",
     "text": [
      "Fastball velocity change: -2.668916821849791\n"
     ]
    }
   ],
   "source": [
    "fb_velo_22 = data22[data22['pitch_type'] == 'FF']['release_speed'].mean()\n",
    "fb_velo_24 = data24[data24['pitch_type'] == 'FF']['release_speed'].mean()\n",
    "fb_velo_change = fb_velo_24 - fb_velo_22\n",
    "print(\"Fastball velocity change:\", fb_velo_change)"
   ]
  },
  {
   "cell_type": "markdown",
   "metadata": {},
   "source": [
    "Stroman's average fastball has dipped over 2 miles per hour since 2022."
   ]
  },
  {
   "cell_type": "code",
   "execution_count": 6,
   "metadata": {},
   "outputs": [
    {
     "name": "stdout",
     "output_type": "stream",
     "text": [
      "Sinker velocity change: -2.003058596535368\n"
     ]
    }
   ],
   "source": [
    "si_velo_22 = data22[data22['pitch_type'] == 'SI']['release_speed'].mean()\n",
    "si_velo_24 = data24[data24['pitch_type'] == 'SI']['release_speed'].mean()\n",
    "si_velo_change = si_velo_24 - si_velo_22\n",
    "print(\"Sinker velocity change:\", si_velo_change)"
   ]
  },
  {
   "cell_type": "markdown",
   "metadata": {},
   "source": [
    "Similarly, his sinker has lost almost exactly 2 miles per hour."
   ]
  },
  {
   "cell_type": "code",
   "execution_count": 7,
   "metadata": {},
   "outputs": [
    {
     "name": "stdout",
     "output_type": "stream",
     "text": [
      "Slider velocity change: -1.046681115077348\n"
     ]
    }
   ],
   "source": [
    "sl_velo_22 = data22[data22['pitch_type'] == 'SL']['release_speed'].mean()\n",
    "sl_velo_24 = data24[data24['pitch_type'] == 'SL']['release_speed'].mean()\n",
    "sl_velo_change = sl_velo_24 - sl_velo_22\n",
    "print(\"Slider velocity change:\", sl_velo_change)"
   ]
  },
  {
   "cell_type": "markdown",
   "metadata": {},
   "source": [
    "His slider has also dropped a tick."
   ]
  },
  {
   "cell_type": "code",
   "execution_count": 8,
   "metadata": {},
   "outputs": [
    {
     "name": "stdout",
     "output_type": "stream",
     "text": [
      "Splitter velocity change: -3.730966484903192\n"
     ]
    }
   ],
   "source": [
    "spl_velo_22 = data22[data22['pitch_type'] == 'FS']['release_speed'].mean()\n",
    "spl_velo_24 = data24[data24['pitch_type'] == 'FS']['release_speed'].mean()\n",
    "spl_velo_change = spl_velo_24 - spl_velo_22\n",
    "print(\"Splitter velocity change:\", spl_velo_change)"
   ]
  },
  {
   "cell_type": "markdown",
   "metadata": {},
   "source": [
    "His splitter has lost nearly 4 miles per hour since 2022, a noteworthy difference."
   ]
  },
  {
   "cell_type": "code",
   "execution_count": 9,
   "metadata": {},
   "outputs": [
    {
     "name": "stdout",
     "output_type": "stream",
     "text": [
      "Slurve velocity change: -2.376122987098597\n"
     ]
    }
   ],
   "source": [
    "slu_velo_22 = data22[data22['pitch_type'] == 'SV']['release_speed'].mean()\n",
    "slu_velo_24 = data24[data24['pitch_type'] == 'SV']['release_speed'].mean()\n",
    "slu_velo_change = slu_velo_24 - slu_velo_22\n",
    "print(\"Slurve velocity change:\", slu_velo_change)"
   ]
  },
  {
   "cell_type": "markdown",
   "metadata": {},
   "source": [
    "His slurve has dropped just over 2 miles per hour."
   ]
  },
  {
   "cell_type": "code",
   "execution_count": 10,
   "metadata": {},
   "outputs": [
    {
     "name": "stdout",
     "output_type": "stream",
     "text": [
      "Cutter velocity change: -1.879310313780195\n"
     ]
    }
   ],
   "source": [
    "cut_velo_22 = data22[data22['pitch_type'] == 'FC']['release_speed'].mean()\n",
    "cut_velo_24 = data24[data24['pitch_type'] == 'FC']['release_speed'].mean()\n",
    "cut_velo_change = cut_velo_24 - cut_velo_22\n",
    "print(\"Cutter velocity change:\", cut_velo_change)"
   ]
  },
  {
   "cell_type": "markdown",
   "metadata": {},
   "source": [
    "His cutter has lost just under 2 miles per hour, the least of all his pitches. \n",
    "\n",
    "To recap his arsenal in terms of velocity:"
   ]
  },
  {
   "cell_type": "code",
   "execution_count": 11,
   "metadata": {},
   "outputs": [
    {
     "name": "stdout",
     "output_type": "stream",
     "text": [
      "2022 Fastball: 92.6050279329609\n",
      "2024 Fastball: 89.9361111111111\n",
      "Fastball Change: -2.668916821849791\n",
      "2022 Sinker: 91.97565118912797\n",
      "2024 Sinker: 89.9725925925926\n",
      "Sinker Change: -2.003058596535368\n",
      "2022 Slider: 86.36036036036036\n",
      "2024 Slider: 85.31367924528301\n",
      "Slider Change: -1.046681115077348\n",
      "2022 Splitter: 87.04291187739466\n",
      "2024 Splitter: 83.31194539249147\n",
      "Splitter Change: -3.730966484903192\n",
      "2022 Slurve: 84.62490347490348\n",
      "2024 Slurve: 82.24878048780488\n",
      "Slurve Change: -2.376122987098597\n",
      "2022 Cutter: 90.01353711790392\n",
      "2024 Cutter: 88.13422680412373\n",
      "Cutter Change: -1.879310313780195\n"
     ]
    }
   ],
   "source": [
    "print(\"2022 Fastball:\", fb_velo_22)\n",
    "print(\"2024 Fastball:\", fb_velo_24)\n",
    "print(\"Fastball Change:\", fb_velo_change)\n",
    "print(\"2022 Sinker:\", si_velo_22)\n",
    "print(\"2024 Sinker:\", si_velo_24)\n",
    "print(\"Sinker Change:\", si_velo_change)\n",
    "print(\"2022 Slider:\", sl_velo_22)\n",
    "print(\"2024 Slider:\", sl_velo_24)\n",
    "print(\"Slider Change:\", sl_velo_change)\n",
    "print(\"2022 Splitter:\", spl_velo_22)\n",
    "print(\"2024 Splitter:\", spl_velo_24)\n",
    "print(\"Splitter Change:\", spl_velo_change)\n",
    "print(\"2022 Slurve:\", slu_velo_22)\n",
    "print(\"2024 Slurve:\", slu_velo_24)\n",
    "print(\"Slurve Change:\", slu_velo_change)\n",
    "print(\"2022 Cutter:\", cut_velo_22)\n",
    "print(\"2024 Cutter:\", cut_velo_24)\n",
    "print(\"Cutter Change:\", cut_velo_change)\n"
   ]
  },
  {
   "cell_type": "markdown",
   "metadata": {},
   "source": [
    "We know he's lost velocity across the board, which is to be expected with smaller pitchers as they age. Tim Lincecum, a noted hard thrower for only standing 5' 11\", saw his fastball velocity drop from the mid 90's at his peak to just 88.7 MPH a few years later following injuries. \n",
    "\n",
    "Another potential culprit is the shape of his pitches, or possibly usage. "
   ]
  },
  {
   "cell_type": "code",
   "execution_count": 12,
   "metadata": {
    "vscode": {
     "languageId": "ruby"
    }
   },
   "outputs": [
    {
     "name": "stdout",
     "output_type": "stream",
     "text": [
      "2022 Fastball Usage: 8.207244383310409\n",
      "2024 Fastball Usage: 2.709823108769289\n",
      "Fastball Usage Change: -5.49742127454112\n",
      "2022 Sinker Usage: 40.486015589179274\n",
      "2024 Sinker Usage: 35.56642830259691\n",
      "Sinker Usage Change: -4.919587286582363\n",
      "2022 Slider Usage: 5.089408528198074\n",
      "2024 Slider Usage: 15.957847196085812\n",
      "Slider Usage Change: 10.868438667887737\n",
      "2024 Curveball Usage: 2.5969138125705684\n",
      "2022 Splitter Usage: 11.966987620357635\n",
      "2024 Splitter Usage: 11.027474595408355\n",
      "Splitter Usage Change: -0.9395130249492798\n",
      "2022 Cutter Usage: 10.499770747363595\n",
      "2024 Cutter Usage: 18.253669552126457\n",
      "Cutter Usage Change: 7.753898804762862\n",
      "2022 Slurve Usage: 23.75057313159101\n",
      "2024 Slurve Usage: 13.887843432442605\n",
      "Slurve Usage Change: -9.862729699148407\n"
     ]
    }
   ],
   "source": [
    "fastball_usage_2022 = data22[data22['pitch_type'] == 'FF'].shape[0] / data22.shape[0] * 100\n",
    "fastball_usage_2024 = data24[data24['pitch_type'] == 'FF'].shape[0] / data24.shape[0] * 100\n",
    "fastball_usage_change = fastball_usage_2024 - fastball_usage_2022\n",
    "print(\"2022 Fastball Usage:\", fastball_usage_2022)\n",
    "print(\"2024 Fastball Usage:\", fastball_usage_2024)\n",
    "print(\"Fastball Usage Change:\", fastball_usage_change)\n",
    "sinker_usage_22 = data22[data22['pitch_type'] == 'SI'].shape[0] / data22.shape[0] * 100\n",
    "sinker_usage_24 = data24[data24['pitch_type'] == 'SI'].shape[0] / data24.shape[0] * 100\n",
    "sinker_usage_change = sinker_usage_24 - sinker_usage_22\n",
    "print(\"2022 Sinker Usage:\", sinker_usage_22)\n",
    "print(\"2024 Sinker Usage:\", sinker_usage_24)\n",
    "print(\"Sinker Usage Change:\", sinker_usage_change)\n",
    "slider_usage_22 = data22[data22['pitch_type'] == 'SL'].shape[0] / data22.shape[0] * 100\n",
    "slider_usage_24 = data24[data24['pitch_type'] == 'SL'].shape[0] / data24.shape[0] * 100\n",
    "slider_usage_change = slider_usage_24 - slider_usage_22\n",
    "print(\"2022 Slider Usage:\", slider_usage_22)\n",
    "print(\"2024 Slider Usage:\", slider_usage_24)\n",
    "print(\"Slider Usage Change:\", slider_usage_change)\n",
    "curveball_usage_24 = data24[data24['pitch_type'] == 'CU'].shape[0] / data24.shape[0] * 100\n",
    "print(\"2024 Curveball Usage:\", curveball_usage_24)\n",
    "splitter_usage_22 = data22[data22['pitch_type'] == 'FS'].shape[0] / data22.shape[0] * 100\n",
    "splitter_usage_24 = data24[data24['pitch_type'] == 'FS'].shape[0] / data24.shape[0] * 100\n",
    "splitter_usage_change = splitter_usage_24 - splitter_usage_22\n",
    "print(\"2022 Splitter Usage:\", splitter_usage_22)\n",
    "print(\"2024 Splitter Usage:\", splitter_usage_24)\n",
    "print(\"Splitter Usage Change:\", splitter_usage_change)\n",
    "cutter_usage_22 = data22[data22['pitch_type'] == 'FC'].shape[0] / data22.shape[0] * 100\n",
    "cutter_usage_24 = data24[data24['pitch_type'] == 'FC'].shape[0] / data24.shape[0] * 100\n",
    "cutter_usage_change = cutter_usage_24 - cutter_usage_22\n",
    "print(\"2022 Cutter Usage:\", cutter_usage_22)\n",
    "print(\"2024 Cutter Usage:\", cutter_usage_24)\n",
    "print(\"Cutter Usage Change:\", cutter_usage_change)\n",
    "slurve_usage_22 = data22[data22['pitch_type'] == 'SV'].shape[0] / data22.shape[0] * 100\n",
    "slurve_usage_24 = data24[data24['pitch_type'] == 'SV'].shape[0] / data24.shape[0] * 100\n",
    "slurve_usage_change = slurve_usage_24 - slurve_usage_22\n",
    "print(\"2022 Slurve Usage:\", slurve_usage_22)\n",
    "print(\"2024 Slurve Usage:\", slurve_usage_24)\n",
    "print(\"Slurve Usage Change:\", slurve_usage_change)\n"
   ]
  },
  {
   "cell_type": "markdown",
   "metadata": {},
   "source": [
    "Stroman made the following changes to his pitch usage:\n",
    "\n",
    "*Used his four-seam fastball ~5.5% less.\n",
    "\n",
    "*Used his sinker ~4.9% less. \n",
    "\n",
    "*Used his slider ~10.8% more.\n",
    "\n",
    "*Used his splitter ~0.9% less. \n",
    "\n",
    "*Used his cutter ~7.7% more. \n",
    "\n",
    "*Used his slurve ~9.8% less. \n",
    "\n",
    "This makes sense. Historically, the Yankees are a team that likes to use sliders a lot. But there are still questions that can be addressed: did his pitch shapes change? How did that relate to swings and misses? Barrels? Run value? "
   ]
  },
  {
   "cell_type": "markdown",
   "metadata": {},
   "source": [
    "But first, looking at these trends visually:"
   ]
  },
  {
   "cell_type": "code",
   "execution_count": 13,
   "metadata": {},
   "outputs": [
    {
     "data": {
      "text/html": [
       "<script type=\"esms-options\">{\"shimMode\": true}</script><style>*[data-root-id],\n",
       "*[data-root-id] > * {\n",
       "  box-sizing: border-box;\n",
       "  font-family: var(--jp-ui-font-family);\n",
       "  font-size: var(--jp-ui-font-size1);\n",
       "  color: var(--vscode-editor-foreground, var(--jp-ui-font-color1));\n",
       "}\n",
       "\n",
       "/* Override VSCode background color */\n",
       ".cell-output-ipywidget-background:has(\n",
       "    > .cell-output-ipywidget-background > .lm-Widget > *[data-root-id]\n",
       "  ),\n",
       ".cell-output-ipywidget-background:has(> .lm-Widget > *[data-root-id]) {\n",
       "  background-color: transparent !important;\n",
       "}\n",
       "</style>"
      ]
     },
     "metadata": {},
     "output_type": "display_data"
    },
    {
     "data": {
      "application/javascript": "(function(root) {\n  function now() {\n    return new Date();\n  }\n\n  const force = true;\n  const py_version = '3.6.0'.replace('rc', '-rc.').replace('.dev', '-dev.');\n  const reloading = false;\n  const Bokeh = root.Bokeh;\n\n  // Set a timeout for this load but only if we are not already initializing\n  if (typeof (root._bokeh_timeout) === \"undefined\" || (force || !root._bokeh_is_initializing)) {\n    root._bokeh_timeout = Date.now() + 5000;\n    root._bokeh_failed_load = false;\n  }\n\n  function run_callbacks() {\n    try {\n      root._bokeh_onload_callbacks.forEach(function(callback) {\n        if (callback != null)\n          callback();\n      });\n    } finally {\n      delete root._bokeh_onload_callbacks;\n    }\n    console.debug(\"Bokeh: all callbacks have finished\");\n  }\n\n  function load_libs(css_urls, js_urls, js_modules, js_exports, callback) {\n    if (css_urls == null) css_urls = [];\n    if (js_urls == null) js_urls = [];\n    if (js_modules == null) js_modules = [];\n    if (js_exports == null) js_exports = {};\n\n    root._bokeh_onload_callbacks.push(callback);\n\n    if (root._bokeh_is_loading > 0) {\n      // Don't load bokeh if it is still initializing\n      console.debug(\"Bokeh: BokehJS is being loaded, scheduling callback at\", now());\n      return null;\n    } else if (js_urls.length === 0 && js_modules.length === 0 && Object.keys(js_exports).length === 0) {\n      // There is nothing to load\n      run_callbacks();\n      return null;\n    }\n\n    function on_load() {\n      root._bokeh_is_loading--;\n      if (root._bokeh_is_loading === 0) {\n        console.debug(\"Bokeh: all BokehJS libraries/stylesheets loaded\");\n        run_callbacks()\n      }\n    }\n    window._bokeh_on_load = on_load\n\n    function on_error(e) {\n      const src_el = e.srcElement\n      console.error(\"failed to load \" + (src_el.href || src_el.src));\n    }\n\n    const skip = [];\n    if (window.requirejs) {\n      window.requirejs.config({'packages': {}, 'paths': {}, 'shim': {}});\n      root._bokeh_is_loading = css_urls.length + 0;\n    } else {\n      root._bokeh_is_loading = css_urls.length + js_urls.length + js_modules.length + Object.keys(js_exports).length;\n    }\n\n    const existing_stylesheets = []\n    const links = document.getElementsByTagName('link')\n    for (let i = 0; i < links.length; i++) {\n      const link = links[i]\n      if (link.href != null) {\n        existing_stylesheets.push(link.href)\n      }\n    }\n    for (let i = 0; i < css_urls.length; i++) {\n      const url = css_urls[i];\n      const escaped = encodeURI(url)\n      if (existing_stylesheets.indexOf(escaped) !== -1) {\n        on_load()\n        continue;\n      }\n      const element = document.createElement(\"link\");\n      element.onload = on_load;\n      element.onerror = on_error;\n      element.rel = \"stylesheet\";\n      element.type = \"text/css\";\n      element.href = url;\n      console.debug(\"Bokeh: injecting link tag for BokehJS stylesheet: \", url);\n      document.body.appendChild(element);\n    }    var existing_scripts = []\n    const scripts = document.getElementsByTagName('script')\n    for (let i = 0; i < scripts.length; i++) {\n      var script = scripts[i]\n      if (script.src != null) {\n        existing_scripts.push(script.src)\n      }\n    }\n    for (let i = 0; i < js_urls.length; i++) {\n      const url = js_urls[i];\n      const escaped = encodeURI(url)\n      if (skip.indexOf(escaped) !== -1 || existing_scripts.indexOf(escaped) !== -1) {\n        if (!window.requirejs) {\n          on_load();\n        }\n        continue;\n      }\n      const element = document.createElement('script');\n      element.onload = on_load;\n      element.onerror = on_error;\n      element.async = false;\n      element.src = url;\n      console.debug(\"Bokeh: injecting script tag for BokehJS library: \", url);\n      document.head.appendChild(element);\n    }\n    for (let i = 0; i < js_modules.length; i++) {\n      const url = js_modules[i];\n      const escaped = encodeURI(url)\n      if (skip.indexOf(escaped) !== -1 || existing_scripts.indexOf(escaped) !== -1) {\n        if (!window.requirejs) {\n          on_load();\n        }\n        continue;\n      }\n      var element = document.createElement('script');\n      element.onload = on_load;\n      element.onerror = on_error;\n      element.async = false;\n      element.src = url;\n      element.type = \"module\";\n      console.debug(\"Bokeh: injecting script tag for BokehJS library: \", url);\n      document.head.appendChild(element);\n    }\n    for (const name in js_exports) {\n      const url = js_exports[name];\n      const escaped = encodeURI(url)\n      if (skip.indexOf(escaped) >= 0 || root[name] != null) {\n        if (!window.requirejs) {\n          on_load();\n        }\n        continue;\n      }\n      var element = document.createElement('script');\n      element.onerror = on_error;\n      element.async = false;\n      element.type = \"module\";\n      console.debug(\"Bokeh: injecting script tag for BokehJS library: \", url);\n      element.textContent = `\n      import ${name} from \"${url}\"\n      window.${name} = ${name}\n      window._bokeh_on_load()\n      `\n      document.head.appendChild(element);\n    }\n    if (!js_urls.length && !js_modules.length) {\n      on_load()\n    }\n  };\n\n  function inject_raw_css(css) {\n    const element = document.createElement(\"style\");\n    element.appendChild(document.createTextNode(css));\n    document.body.appendChild(element);\n  }\n\n  const js_urls = [\"https://cdn.holoviz.org/panel/1.5.2/dist/bundled/reactiveesm/es-module-shims@^1.10.0/dist/es-module-shims.min.js\", \"https://cdn.bokeh.org/bokeh/release/bokeh-3.6.0.min.js\", \"https://cdn.bokeh.org/bokeh/release/bokeh-gl-3.6.0.min.js\", \"https://cdn.bokeh.org/bokeh/release/bokeh-widgets-3.6.0.min.js\", \"https://cdn.bokeh.org/bokeh/release/bokeh-tables-3.6.0.min.js\", \"https://cdn.holoviz.org/panel/1.5.2/dist/panel.min.js\"];\n  const js_modules = [];\n  const js_exports = {};\n  const css_urls = [];\n  const inline_js = [    function(Bokeh) {\n      Bokeh.set_log_level(\"info\");\n    },\nfunction(Bokeh) {} // ensure no trailing comma for IE\n  ];\n\n  function run_inline_js() {\n    if ((root.Bokeh !== undefined) || (force === true)) {\n      for (let i = 0; i < inline_js.length; i++) {\n        try {\n          inline_js[i].call(root, root.Bokeh);\n        } catch(e) {\n          if (!reloading) {\n            throw e;\n          }\n        }\n      }\n      // Cache old bokeh versions\n      if (Bokeh != undefined && !reloading) {\n        var NewBokeh = root.Bokeh;\n        if (Bokeh.versions === undefined) {\n          Bokeh.versions = new Map();\n        }\n        if (NewBokeh.version !== Bokeh.version) {\n          Bokeh.versions.set(NewBokeh.version, NewBokeh)\n        }\n        root.Bokeh = Bokeh;\n      }\n    } else if (Date.now() < root._bokeh_timeout) {\n      setTimeout(run_inline_js, 100);\n    } else if (!root._bokeh_failed_load) {\n      console.log(\"Bokeh: BokehJS failed to load within specified timeout.\");\n      root._bokeh_failed_load = true;\n    }\n    root._bokeh_is_initializing = false\n  }\n\n  function load_or_wait() {\n    // Implement a backoff loop that tries to ensure we do not load multiple\n    // versions of Bokeh and its dependencies at the same time.\n    // In recent versions we use the root._bokeh_is_initializing flag\n    // to determine whether there is an ongoing attempt to initialize\n    // bokeh, however for backward compatibility we also try to ensure\n    // that we do not start loading a newer (Panel>=1.0 and Bokeh>3) version\n    // before older versions are fully initialized.\n    if (root._bokeh_is_initializing && Date.now() > root._bokeh_timeout) {\n      // If the timeout and bokeh was not successfully loaded we reset\n      // everything and try loading again\n      root._bokeh_timeout = Date.now() + 5000;\n      root._bokeh_is_initializing = false;\n      root._bokeh_onload_callbacks = undefined;\n      root._bokeh_is_loading = 0\n      console.log(\"Bokeh: BokehJS was loaded multiple times but one version failed to initialize.\");\n      load_or_wait();\n    } else if (root._bokeh_is_initializing || (typeof root._bokeh_is_initializing === \"undefined\" && root._bokeh_onload_callbacks !== undefined)) {\n      setTimeout(load_or_wait, 100);\n    } else {\n      root._bokeh_is_initializing = true\n      root._bokeh_onload_callbacks = []\n      const bokeh_loaded = root.Bokeh != null && (root.Bokeh.version === py_version || (root.Bokeh.versions !== undefined && root.Bokeh.versions.has(py_version)));\n      if (!reloading && !bokeh_loaded) {\n        if (root.Bokeh) {\n          root.Bokeh = undefined;\n        }\n        console.debug(\"Bokeh: BokehJS not loaded, scheduling load and callback at\", now());\n      }\n      load_libs(css_urls, js_urls, js_modules, js_exports, function() {\n        console.debug(\"Bokeh: BokehJS plotting callback run at\", now());\n        run_inline_js();\n      });\n    }\n  }\n  // Give older versions of the autoload script a head-start to ensure\n  // they initialize before we start loading newer version.\n  setTimeout(load_or_wait, 100)\n}(window));",
      "application/vnd.holoviews_load.v0+json": ""
     },
     "metadata": {},
     "output_type": "display_data"
    },
    {
     "data": {
      "application/javascript": "\nif ((window.PyViz === undefined) || (window.PyViz instanceof HTMLElement)) {\n  window.PyViz = {comms: {}, comm_status:{}, kernels:{}, receivers: {}, plot_index: []}\n}\n\n\n    function JupyterCommManager() {\n    }\n\n    JupyterCommManager.prototype.register_target = function(plot_id, comm_id, msg_handler) {\n      if (window.comm_manager || ((window.Jupyter !== undefined) && (Jupyter.notebook.kernel != null))) {\n        var comm_manager = window.comm_manager || Jupyter.notebook.kernel.comm_manager;\n        comm_manager.register_target(comm_id, function(comm) {\n          comm.on_msg(msg_handler);\n        });\n      } else if ((plot_id in window.PyViz.kernels) && (window.PyViz.kernels[plot_id])) {\n        window.PyViz.kernels[plot_id].registerCommTarget(comm_id, function(comm) {\n          comm.onMsg = msg_handler;\n        });\n      } else if (typeof google != 'undefined' && google.colab.kernel != null) {\n        google.colab.kernel.comms.registerTarget(comm_id, (comm) => {\n          var messages = comm.messages[Symbol.asyncIterator]();\n          function processIteratorResult(result) {\n            var message = result.value;\n            console.log(message)\n            var content = {data: message.data, comm_id};\n            var buffers = []\n            for (var buffer of message.buffers || []) {\n              buffers.push(new DataView(buffer))\n            }\n            var metadata = message.metadata || {};\n            var msg = {content, buffers, metadata}\n            msg_handler(msg);\n            return messages.next().then(processIteratorResult);\n          }\n          return messages.next().then(processIteratorResult);\n        })\n      }\n    }\n\n    JupyterCommManager.prototype.get_client_comm = function(plot_id, comm_id, msg_handler) {\n      if (comm_id in window.PyViz.comms) {\n        return window.PyViz.comms[comm_id];\n      } else if (window.comm_manager || ((window.Jupyter !== undefined) && (Jupyter.notebook.kernel != null))) {\n        var comm_manager = window.comm_manager || Jupyter.notebook.kernel.comm_manager;\n        var comm = comm_manager.new_comm(comm_id, {}, {}, {}, comm_id);\n        if (msg_handler) {\n          comm.on_msg(msg_handler);\n        }\n      } else if ((plot_id in window.PyViz.kernels) && (window.PyViz.kernels[plot_id])) {\n        var comm = window.PyViz.kernels[plot_id].connectToComm(comm_id);\n        comm.open();\n        if (msg_handler) {\n          comm.onMsg = msg_handler;\n        }\n      } else if (typeof google != 'undefined' && google.colab.kernel != null) {\n        var comm_promise = google.colab.kernel.comms.open(comm_id)\n        comm_promise.then((comm) => {\n          window.PyViz.comms[comm_id] = comm;\n          if (msg_handler) {\n            var messages = comm.messages[Symbol.asyncIterator]();\n            function processIteratorResult(result) {\n              var message = result.value;\n              var content = {data: message.data};\n              var metadata = message.metadata || {comm_id};\n              var msg = {content, metadata}\n              msg_handler(msg);\n              return messages.next().then(processIteratorResult);\n            }\n            return messages.next().then(processIteratorResult);\n          }\n        }) \n        var sendClosure = (data, metadata, buffers, disposeOnDone) => {\n          return comm_promise.then((comm) => {\n            comm.send(data, metadata, buffers, disposeOnDone);\n          });\n        };\n        var comm = {\n          send: sendClosure\n        };\n      }\n      window.PyViz.comms[comm_id] = comm;\n      return comm;\n    }\n    window.PyViz.comm_manager = new JupyterCommManager();\n    \n\n\nvar JS_MIME_TYPE = 'application/javascript';\nvar HTML_MIME_TYPE = 'text/html';\nvar EXEC_MIME_TYPE = 'application/vnd.holoviews_exec.v0+json';\nvar CLASS_NAME = 'output';\n\n/**\n * Render data to the DOM node\n */\nfunction render(props, node) {\n  var div = document.createElement(\"div\");\n  var script = document.createElement(\"script\");\n  node.appendChild(div);\n  node.appendChild(script);\n}\n\n/**\n * Handle when a new output is added\n */\nfunction handle_add_output(event, handle) {\n  var output_area = handle.output_area;\n  var output = handle.output;\n  if ((output.data == undefined) || (!output.data.hasOwnProperty(EXEC_MIME_TYPE))) {\n    return\n  }\n  var id = output.metadata[EXEC_MIME_TYPE][\"id\"];\n  var toinsert = output_area.element.find(\".\" + CLASS_NAME.split(' ')[0]);\n  if (id !== undefined) {\n    var nchildren = toinsert.length;\n    var html_node = toinsert[nchildren-1].children[0];\n    html_node.innerHTML = output.data[HTML_MIME_TYPE];\n    var scripts = [];\n    var nodelist = html_node.querySelectorAll(\"script\");\n    for (var i in nodelist) {\n      if (nodelist.hasOwnProperty(i)) {\n        scripts.push(nodelist[i])\n      }\n    }\n\n    scripts.forEach( function (oldScript) {\n      var newScript = document.createElement(\"script\");\n      var attrs = [];\n      var nodemap = oldScript.attributes;\n      for (var j in nodemap) {\n        if (nodemap.hasOwnProperty(j)) {\n          attrs.push(nodemap[j])\n        }\n      }\n      attrs.forEach(function(attr) { newScript.setAttribute(attr.name, attr.value) });\n      newScript.appendChild(document.createTextNode(oldScript.innerHTML));\n      oldScript.parentNode.replaceChild(newScript, oldScript);\n    });\n    if (JS_MIME_TYPE in output.data) {\n      toinsert[nchildren-1].children[1].textContent = output.data[JS_MIME_TYPE];\n    }\n    output_area._hv_plot_id = id;\n    if ((window.Bokeh !== undefined) && (id in Bokeh.index)) {\n      window.PyViz.plot_index[id] = Bokeh.index[id];\n    } else {\n      window.PyViz.plot_index[id] = null;\n    }\n  } else if (output.metadata[EXEC_MIME_TYPE][\"server_id\"] !== undefined) {\n    var bk_div = document.createElement(\"div\");\n    bk_div.innerHTML = output.data[HTML_MIME_TYPE];\n    var script_attrs = bk_div.children[0].attributes;\n    for (var i = 0; i < script_attrs.length; i++) {\n      toinsert[toinsert.length - 1].childNodes[1].setAttribute(script_attrs[i].name, script_attrs[i].value);\n    }\n    // store reference to server id on output_area\n    output_area._bokeh_server_id = output.metadata[EXEC_MIME_TYPE][\"server_id\"];\n  }\n}\n\n/**\n * Handle when an output is cleared or removed\n */\nfunction handle_clear_output(event, handle) {\n  var id = handle.cell.output_area._hv_plot_id;\n  var server_id = handle.cell.output_area._bokeh_server_id;\n  if (((id === undefined) || !(id in PyViz.plot_index)) && (server_id !== undefined)) { return; }\n  var comm = window.PyViz.comm_manager.get_client_comm(\"hv-extension-comm\", \"hv-extension-comm\", function () {});\n  if (server_id !== null) {\n    comm.send({event_type: 'server_delete', 'id': server_id});\n    return;\n  } else if (comm !== null) {\n    comm.send({event_type: 'delete', 'id': id});\n  }\n  delete PyViz.plot_index[id];\n  if ((window.Bokeh !== undefined) & (id in window.Bokeh.index)) {\n    var doc = window.Bokeh.index[id].model.document\n    doc.clear();\n    const i = window.Bokeh.documents.indexOf(doc);\n    if (i > -1) {\n      window.Bokeh.documents.splice(i, 1);\n    }\n  }\n}\n\n/**\n * Handle kernel restart event\n */\nfunction handle_kernel_cleanup(event, handle) {\n  delete PyViz.comms[\"hv-extension-comm\"];\n  window.PyViz.plot_index = {}\n}\n\n/**\n * Handle update_display_data messages\n */\nfunction handle_update_output(event, handle) {\n  handle_clear_output(event, {cell: {output_area: handle.output_area}})\n  handle_add_output(event, handle)\n}\n\nfunction register_renderer(events, OutputArea) {\n  function append_mime(data, metadata, element) {\n    // create a DOM node to render to\n    var toinsert = this.create_output_subarea(\n    metadata,\n    CLASS_NAME,\n    EXEC_MIME_TYPE\n    );\n    this.keyboard_manager.register_events(toinsert);\n    // Render to node\n    var props = {data: data, metadata: metadata[EXEC_MIME_TYPE]};\n    render(props, toinsert[0]);\n    element.append(toinsert);\n    return toinsert\n  }\n\n  events.on('output_added.OutputArea', handle_add_output);\n  events.on('output_updated.OutputArea', handle_update_output);\n  events.on('clear_output.CodeCell', handle_clear_output);\n  events.on('delete.Cell', handle_clear_output);\n  events.on('kernel_ready.Kernel', handle_kernel_cleanup);\n\n  OutputArea.prototype.register_mime_type(EXEC_MIME_TYPE, append_mime, {\n    safe: true,\n    index: 0\n  });\n}\n\nif (window.Jupyter !== undefined) {\n  try {\n    var events = require('base/js/events');\n    var OutputArea = require('notebook/js/outputarea').OutputArea;\n    if (OutputArea.prototype.mime_types().indexOf(EXEC_MIME_TYPE) == -1) {\n      register_renderer(events, OutputArea);\n    }\n  } catch(err) {\n  }\n}\n",
      "application/vnd.holoviews_load.v0+json": ""
     },
     "metadata": {},
     "output_type": "display_data"
    },
    {
     "data": {
      "application/vnd.holoviews_exec.v0+json": "",
      "text/html": [
       "<div id='p1002'>\n",
       "  <div id=\"ca52961d-5125-48dd-918e-99a059273f4f\" data-root-id=\"p1002\" style=\"display: contents;\"></div>\n",
       "</div>\n",
       "<script type=\"application/javascript\">(function(root) {\n",
       "  var docs_json = {\"a26101ca-a65b-420a-a316-55d936e89d72\":{\"version\":\"3.6.0\",\"title\":\"Bokeh Application\",\"roots\":[{\"type\":\"object\",\"name\":\"panel.models.browser.BrowserInfo\",\"id\":\"p1002\"},{\"type\":\"object\",\"name\":\"panel.models.comm_manager.CommManager\",\"id\":\"p1003\",\"attributes\":{\"plot_id\":\"p1002\",\"comm_id\":\"a9a8e43701064d94afe88d7609affc27\",\"client_comm_id\":\"ed1b4fb5e80147aebb06bc67aad71d24\"}}],\"defs\":[{\"type\":\"model\",\"name\":\"ReactiveHTML1\"},{\"type\":\"model\",\"name\":\"FlexBox1\",\"properties\":[{\"name\":\"align_content\",\"kind\":\"Any\",\"default\":\"flex-start\"},{\"name\":\"align_items\",\"kind\":\"Any\",\"default\":\"flex-start\"},{\"name\":\"flex_direction\",\"kind\":\"Any\",\"default\":\"row\"},{\"name\":\"flex_wrap\",\"kind\":\"Any\",\"default\":\"wrap\"},{\"name\":\"gap\",\"kind\":\"Any\",\"default\":\"\"},{\"name\":\"justify_content\",\"kind\":\"Any\",\"default\":\"flex-start\"}]},{\"type\":\"model\",\"name\":\"FloatPanel1\",\"properties\":[{\"name\":\"config\",\"kind\":\"Any\",\"default\":{\"type\":\"map\"}},{\"name\":\"contained\",\"kind\":\"Any\",\"default\":true},{\"name\":\"position\",\"kind\":\"Any\",\"default\":\"right-top\"},{\"name\":\"offsetx\",\"kind\":\"Any\",\"default\":null},{\"name\":\"offsety\",\"kind\":\"Any\",\"default\":null},{\"name\":\"theme\",\"kind\":\"Any\",\"default\":\"primary\"},{\"name\":\"status\",\"kind\":\"Any\",\"default\":\"normalized\"}]},{\"type\":\"model\",\"name\":\"GridStack1\",\"properties\":[{\"name\":\"mode\",\"kind\":\"Any\",\"default\":\"warn\"},{\"name\":\"ncols\",\"kind\":\"Any\",\"default\":null},{\"name\":\"nrows\",\"kind\":\"Any\",\"default\":null},{\"name\":\"allow_resize\",\"kind\":\"Any\",\"default\":true},{\"name\":\"allow_drag\",\"kind\":\"Any\",\"default\":true},{\"name\":\"state\",\"kind\":\"Any\",\"default\":[]}]},{\"type\":\"model\",\"name\":\"drag1\",\"properties\":[{\"name\":\"slider_width\",\"kind\":\"Any\",\"default\":5},{\"name\":\"slider_color\",\"kind\":\"Any\",\"default\":\"black\"},{\"name\":\"value\",\"kind\":\"Any\",\"default\":50}]},{\"type\":\"model\",\"name\":\"click1\",\"properties\":[{\"name\":\"terminal_output\",\"kind\":\"Any\",\"default\":\"\"},{\"name\":\"debug_name\",\"kind\":\"Any\",\"default\":\"\"},{\"name\":\"clears\",\"kind\":\"Any\",\"default\":0}]},{\"type\":\"model\",\"name\":\"FastWrapper1\",\"properties\":[{\"name\":\"object\",\"kind\":\"Any\",\"default\":null},{\"name\":\"style\",\"kind\":\"Any\",\"default\":null}]},{\"type\":\"model\",\"name\":\"NotificationAreaBase1\",\"properties\":[{\"name\":\"js_events\",\"kind\":\"Any\",\"default\":{\"type\":\"map\"}},{\"name\":\"position\",\"kind\":\"Any\",\"default\":\"bottom-right\"},{\"name\":\"_clear\",\"kind\":\"Any\",\"default\":0}]},{\"type\":\"model\",\"name\":\"NotificationArea1\",\"properties\":[{\"name\":\"js_events\",\"kind\":\"Any\",\"default\":{\"type\":\"map\"}},{\"name\":\"notifications\",\"kind\":\"Any\",\"default\":[]},{\"name\":\"position\",\"kind\":\"Any\",\"default\":\"bottom-right\"},{\"name\":\"_clear\",\"kind\":\"Any\",\"default\":0},{\"name\":\"types\",\"kind\":\"Any\",\"default\":[{\"type\":\"map\",\"entries\":[[\"type\",\"warning\"],[\"background\",\"#ffc107\"],[\"icon\",{\"type\":\"map\",\"entries\":[[\"className\",\"fas fa-exclamation-triangle\"],[\"tagName\",\"i\"],[\"color\",\"white\"]]}]]},{\"type\":\"map\",\"entries\":[[\"type\",\"info\"],[\"background\",\"#007bff\"],[\"icon\",{\"type\":\"map\",\"entries\":[[\"className\",\"fas fa-info-circle\"],[\"tagName\",\"i\"],[\"color\",\"white\"]]}]]}]}]},{\"type\":\"model\",\"name\":\"Notification\",\"properties\":[{\"name\":\"background\",\"kind\":\"Any\",\"default\":null},{\"name\":\"duration\",\"kind\":\"Any\",\"default\":3000},{\"name\":\"icon\",\"kind\":\"Any\",\"default\":null},{\"name\":\"message\",\"kind\":\"Any\",\"default\":\"\"},{\"name\":\"notification_type\",\"kind\":\"Any\",\"default\":null},{\"name\":\"_destroyed\",\"kind\":\"Any\",\"default\":false}]},{\"type\":\"model\",\"name\":\"TemplateActions1\",\"properties\":[{\"name\":\"open_modal\",\"kind\":\"Any\",\"default\":0},{\"name\":\"close_modal\",\"kind\":\"Any\",\"default\":0}]},{\"type\":\"model\",\"name\":\"BootstrapTemplateActions1\",\"properties\":[{\"name\":\"open_modal\",\"kind\":\"Any\",\"default\":0},{\"name\":\"close_modal\",\"kind\":\"Any\",\"default\":0}]},{\"type\":\"model\",\"name\":\"TemplateEditor1\",\"properties\":[{\"name\":\"layout\",\"kind\":\"Any\",\"default\":[]}]},{\"type\":\"model\",\"name\":\"MaterialTemplateActions1\",\"properties\":[{\"name\":\"open_modal\",\"kind\":\"Any\",\"default\":0},{\"name\":\"close_modal\",\"kind\":\"Any\",\"default\":0}]},{\"type\":\"model\",\"name\":\"ReactiveESM1\"},{\"type\":\"model\",\"name\":\"JSComponent1\"},{\"type\":\"model\",\"name\":\"ReactComponent1\"},{\"type\":\"model\",\"name\":\"AnyWidgetComponent1\"},{\"type\":\"model\",\"name\":\"request_value1\",\"properties\":[{\"name\":\"fill\",\"kind\":\"Any\",\"default\":\"none\"},{\"name\":\"_synced\",\"kind\":\"Any\",\"default\":null},{\"name\":\"_request_sync\",\"kind\":\"Any\",\"default\":0}]}]}};\n",
       "  var render_items = [{\"docid\":\"a26101ca-a65b-420a-a316-55d936e89d72\",\"roots\":{\"p1002\":\"ca52961d-5125-48dd-918e-99a059273f4f\"},\"root_ids\":[\"p1002\"]}];\n",
       "  var docs = Object.values(docs_json)\n",
       "  if (!docs) {\n",
       "    return\n",
       "  }\n",
       "  const py_version = docs[0].version.replace('rc', '-rc.').replace('.dev', '-dev.')\n",
       "  async function embed_document(root) {\n",
       "    var Bokeh = get_bokeh(root)\n",
       "    await Bokeh.embed.embed_items_notebook(docs_json, render_items);\n",
       "    for (const render_item of render_items) {\n",
       "      for (const root_id of render_item.root_ids) {\n",
       "\tconst id_el = document.getElementById(root_id)\n",
       "\tif (id_el.children.length && id_el.children[0].hasAttribute('data-root-id')) {\n",
       "\t  const root_el = id_el.children[0]\n",
       "\t  root_el.id = root_el.id + '-rendered'\n",
       "\t  for (const child of root_el.children) {\n",
       "            // Ensure JupyterLab does not capture keyboard shortcuts\n",
       "            // see: https://jupyterlab.readthedocs.io/en/4.1.x/extension/notebook.html#keyboard-interaction-model\n",
       "\t    child.setAttribute('data-lm-suppress-shortcuts', 'true')\n",
       "\t  }\n",
       "\t}\n",
       "      }\n",
       "    }\n",
       "  }\n",
       "  function get_bokeh(root) {\n",
       "    if (root.Bokeh === undefined) {\n",
       "      return null\n",
       "    } else if (root.Bokeh.version !== py_version) {\n",
       "      if (root.Bokeh.versions === undefined || !root.Bokeh.versions.has(py_version)) {\n",
       "\treturn null\n",
       "      }\n",
       "      return root.Bokeh.versions.get(py_version);\n",
       "    } else if (root.Bokeh.version === py_version) {\n",
       "      return root.Bokeh\n",
       "    }\n",
       "    return null\n",
       "  }\n",
       "  function is_loaded(root) {\n",
       "    var Bokeh = get_bokeh(root)\n",
       "    return (Bokeh != null && Bokeh.Panel !== undefined)\n",
       "  }\n",
       "  if (is_loaded(root)) {\n",
       "    embed_document(root);\n",
       "  } else {\n",
       "    var attempts = 0;\n",
       "    var timer = setInterval(function(root) {\n",
       "      if (is_loaded(root)) {\n",
       "        clearInterval(timer);\n",
       "        embed_document(root);\n",
       "      } else if (document.readyState == \"complete\") {\n",
       "        attempts++;\n",
       "        if (attempts > 200) {\n",
       "          clearInterval(timer);\n",
       "\t  var Bokeh = get_bokeh(root)\n",
       "\t  if (Bokeh == null || Bokeh.Panel == null) {\n",
       "            console.warn(\"Panel: ERROR: Unable to run Panel code because Bokeh or Panel library is missing\");\n",
       "\t  } else {\n",
       "\t    console.warn(\"Panel: WARNING: Attempting to render but not all required libraries could be resolved.\")\n",
       "\t    embed_document(root)\n",
       "\t  }\n",
       "        }\n",
       "      }\n",
       "    }, 25, root)\n",
       "  }\n",
       "})(window);</script>"
      ]
     },
     "metadata": {
      "application/vnd.holoviews_exec.v0+json": {
       "id": "p1002"
      }
     },
     "output_type": "display_data"
    }
   ],
   "source": [
    "import seaborn as sns\n",
    "import hvplot.pandas\n",
    "from matplotlib import pyplot as plt"
   ]
  },
  {
   "cell_type": "code",
   "execution_count": 14,
   "metadata": {},
   "outputs": [
    {
     "data": {
      "image/png": "[encoded data removed]",
      "text/plain": [
       "<Figure size 640x480 with 1 Axes>"
      ]
     },
     "metadata": {},
     "output_type": "display_data"
    },
    {
     "data": {
      "image/png": "[encoded data removed]",
      "text/plain": [
       "<Figure size 640x480 with 1 Axes>"
      ]
     },
     "metadata": {},
     "output_type": "display_data"
    }
   ],
   "source": [
    "import matplotlib.pyplot as plt\n",
    "\n",
    "pitch_types = ['Fastball', 'Sinker', 'Slider', 'Splitter', 'Slurve', 'Cutter']\n",
    "usage_2022 = [fastball_usage_2022, sinker_usage_22, slider_usage_22, splitter_usage_22, slurve_usage_22, cutter_usage_22]\n",
    "usage_2024 = [fastball_usage_2024, sinker_usage_24, slider_usage_24, splitter_usage_24, slurve_usage_24, cutter_usage_24]\n",
    "\n",
    "fig, ax = plt.subplots()\n",
    "bar_width = 0.35\n",
    "index = range(len(pitch_types))\n",
    "\n",
    "bar1 = ax.bar(index, usage_2022, bar_width, label='2022')\n",
    "bar2 = ax.bar([i + bar_width for i in index], usage_2024, bar_width, label='2024')\n",
    "\n",
    "ax.set_xlabel('Pitch Type')\n",
    "ax.set_ylabel('Usage Percentage')\n",
    "ax.set_title('Pitch Usage Comparison: 2022 vs 2024')\n",
    "ax.set_xticks([i + bar_width / 2 for i in index])\n",
    "ax.set_xticklabels(pitch_types)\n",
    "ax.legend()\n",
    "\n",
    "plt.show()\n",
    "\n",
    "velocities_2022 = [fb_velo_22, si_velo_22, sl_velo_22, spl_velo_22, slu_velo_22, cut_velo_22]\n",
    "velocities_2024 = [fb_velo_24, si_velo_24, sl_velo_24, spl_velo_24, slu_velo_24, cut_velo_24]\n",
    "\n",
    "fig, ax = plt.subplots()\n",
    "ax.plot(pitch_types, velocities_2022, marker='o', label='2022')\n",
    "ax.plot(pitch_types, velocities_2024, marker='o', label='2024')\n",
    "\n",
    "ax.set_xlabel('Pitch Type')\n",
    "ax.set_ylabel('Average Velocity (mph)')\n",
    "ax.set_title('Average Pitch Velocities: 2022 vs 2024')\n",
    "ax.legend()\n",
    "\n",
    "plt.show()"
   ]
  },
  {
   "cell_type": "markdown",
   "metadata": {},
   "source": [
    "Time to determine some initial statistical significance. Here's what I want to start by looking at:\n",
    "\n",
    "1. Change in average velocity and barrels\n",
    "\n",
    "2. Change in average velocity and whiff rate\n",
    "\n",
    "3. Change in average velocity and pitch run value\n",
    "\n",
    "4. Change in pitch usage and barrels\n",
    "\n",
    "5. Change in pitch usage and whiff rate "
   ]
  },
  {
   "cell_type": "code",
   "execution_count": 15,
   "metadata": {},
   "outputs": [],
   "source": [
    "import statsmodels.api as sm\n",
    "import statsmodels.formula.api as smf\n",
    "import statsmodels.graphics.api as smg\n",
    "import patsy\n",
    "import matplotlib.pyplot as plt\n",
    "import numpy as np\n",
    "import pandas as pd\n",
    "from scipy import stats"
   ]
  },
  {
   "cell_type": "markdown",
   "metadata": {},
   "source": [
    "First, I need to set up the information about whiff rates."
   ]
  },
  {
   "cell_type": "code",
   "execution_count": 16,
   "metadata": {},
   "outputs": [],
   "source": [
    "fb_whiff_22 = 18.4\n",
    "sl_whiff_22 = 31.0\n",
    "cut_whiff_22 = 25.0\n",
    "sink_whiff_22 = 15.8\n",
    "slv_whiff_22 = 31.3\n",
    "spl_whiff_22 = 24.2\n",
    "\n",
    "fb_whiff_24 = 22.7\n",
    "sl_whiff_24 = 27.2\n",
    "cut_whiff_24 = 18.7\n",
    "sink_whiff_24 = 12.3\n",
    "slv_whiff_24 = 31.3\n",
    "spl_whiff_24 = 24.1"
   ]
  },
  {
   "cell_type": "code",
   "execution_count": 17,
   "metadata": {},
   "outputs": [
    {
     "name": "stdout",
     "output_type": "stream",
     "text": [
      "2022 Fastball Whiff Rate: 18.4\n",
      "2024 Fastball Whiff Rate: 22.7\n",
      "Fastball Whiff Rate Change: 4.300000000000001\n",
      "2022 Slider Whiff Rate: 31.0\n",
      "2024 Slider Whiff Rate: 27.2\n",
      "Slider Whiff Rate Change: -3.8000000000000007\n",
      "2022 Cutter Whiff Rate: 25.0\n",
      "2024 Cutter Whiff Rate: 18.7\n",
      "Cutter Whiff Rate Change: -6.300000000000001\n",
      "2022 Sinker Whiff Rate: 15.8\n",
      "2024 Sinker Whiff Rate: 12.3\n",
      "Sinker Whiff Rate Change: -3.5\n",
      "2022 Slurve Whiff Rate: 31.3\n",
      "2024 Slurve Whiff Rate: 31.3\n",
      "Slurve Whiff Rate Change: 0.0\n",
      "2022 Splitter Whiff Rate: 24.2\n",
      "2024 Splitter Whiff Rate: 24.1\n",
      "Splitter Whiff Rate Change: -0.09999999999999787\n"
     ]
    }
   ],
   "source": [
    "print(\"2022 Fastball Whiff Rate:\", fb_whiff_22)\n",
    "print(\"2024 Fastball Whiff Rate:\", fb_whiff_24)\n",
    "print(\"Fastball Whiff Rate Change:\", fb_whiff_24 - fb_whiff_22)\n",
    "print(\"2022 Slider Whiff Rate:\", sl_whiff_22)\n",
    "print(\"2024 Slider Whiff Rate:\", sl_whiff_24)\n",
    "print(\"Slider Whiff Rate Change:\", sl_whiff_24 - sl_whiff_22)\n",
    "print(\"2022 Cutter Whiff Rate:\", cut_whiff_22)\n",
    "print(\"2024 Cutter Whiff Rate:\", cut_whiff_24)\n",
    "print(\"Cutter Whiff Rate Change:\", cut_whiff_24 - cut_whiff_22)\n",
    "print(\"2022 Sinker Whiff Rate:\", sink_whiff_22)\n",
    "print(\"2024 Sinker Whiff Rate:\", sink_whiff_24)\n",
    "print(\"Sinker Whiff Rate Change:\", sink_whiff_24 - sink_whiff_22)\n",
    "print(\"2022 Slurve Whiff Rate:\", slv_whiff_22)\n",
    "print(\"2024 Slurve Whiff Rate:\", slv_whiff_24)\n",
    "print(\"Slurve Whiff Rate Change:\", slv_whiff_24 - slv_whiff_22)\n",
    "print(\"2022 Splitter Whiff Rate:\", spl_whiff_22)\n",
    "print(\"2024 Splitter Whiff Rate:\", spl_whiff_24)\n",
    "print(\"Splitter Whiff Rate Change:\", spl_whiff_24 - spl_whiff_22)\n",
    "fb_whiff_change = fb_whiff_24 - fb_whiff_22\n",
    "sl_whiff_change = sl_whiff_24 - sl_whiff_22\n",
    "cut_whiff_change = cut_whiff_24 - cut_whiff_22\n",
    "sink_whiff_change = sink_whiff_24 - sink_whiff_22\n",
    "slv_whiff_change = slv_whiff_24 - slv_whiff_22\n",
    "spl_whiff_change = spl_whiff_24 - spl_whiff_22\n"
   ]
  },
  {
   "cell_type": "markdown",
   "metadata": {},
   "source": [
    "To sum up:\n",
    "\n",
    "*fastballs got 4% more swings and misses in 2024.\n",
    "\n",
    "*sliders got 3% less swings and misses in 2024.\n",
    "\n",
    "*cutters got 6% less swings and misses in 2024.\n",
    "\n",
    "*sinkers got 3.5% less swings and misses in 2024.\n",
    "\n",
    "*slurves were unchanged from 2022 to 2024.\n",
    "\n",
    "*splitters got less than 0.1% fewer swings and misses in 2024."
   ]
  },
  {
   "cell_type": "code",
   "execution_count": 18,
   "metadata": {},
   "outputs": [
    {
     "name": "stdout",
     "output_type": "stream",
     "text": [
      "                            OLS Regression Results                            \n",
      "==============================================================================\n",
      "Dep. Variable:      whiff_rate_change   R-squared:                       0.337\n",
      "Model:                            OLS   Adj. R-squared:                  0.171\n",
      "Method:                 Least Squares   F-statistic:                     2.029\n",
      "Date:                Sat, 01 Mar 2025   Prob (F-statistic):              0.227\n",
      "Time:                        16:29:04   Log-Likelihood:                -14.660\n",
      "No. Observations:                   6   AIC:                             33.32\n",
      "Df Residuals:                       4   BIC:                             32.90\n",
      "Df Model:                           1                                         \n",
      "Covariance Type:            nonrobust                                         \n",
      "===============================================================================\n",
      "                  coef    std err          t      P>|t|      [0.025      0.975]\n",
      "-------------------------------------------------------------------------------\n",
      "intercept      -7.0993      4.126     -1.720      0.160     -18.556       4.357\n",
      "velo_change    -2.4221      1.701     -1.424      0.227      -7.144       2.299\n",
      "==============================================================================\n",
      "Omnibus:                          nan   Durbin-Watson:                   1.882\n",
      "Prob(Omnibus):                    nan   Jarque-Bera (JB):                0.351\n",
      "Skew:                           0.461   Prob(JB):                        0.839\n",
      "Kurtosis:                       2.256   Cond. No.                         8.29\n",
      "==============================================================================\n",
      "\n",
      "Notes:\n",
      "[1] Standard Errors assume that the covariance matrix of the errors is correctly specified.\n"
     ]
    },
    {
     "name": "stderr",
     "output_type": "stream",
     "text": [
      "/opt/anaconda3/lib/python3.12/site-packages/statsmodels/stats/stattools.py:74: ValueWarning: omni_normtest is not valid with less than 8 observations; 6 samples were given.\n",
      "  warn(\"omni_normtest is not valid with less than 8 observations; %i \"\n"
     ]
    }
   ],
   "source": [
    "# Prepare the data\n",
    "import statsmodels.api as sm\n",
    "import statsmodels.formula.api as smf\n",
    "import statsmodels.graphics.api as smg\n",
    "import patsy\n",
    "import matplotlib.pyplot as plt\n",
    "import numpy as np\n",
    "import pandas as pd\n",
    "from scipy import stats\n",
    "\n",
    "pitch_types = ['Fastball', 'Sinker', 'Slider', 'Splitter', 'Sluve', 'Cutter']\n",
    "whiff_rates = [fb_whiff_change, sink_whiff_change, sl_whiff_change, spl_whiff_change, slv_whiff_change, cut_whiff_change]\n",
    "velo_changes = [fb_velo_change, si_velo_change, sl_velo_change, spl_velo_change, slu_velo_change, cut_velo_change]\n",
    "\n",
    "# Create a DataFrame for the linear regression\n",
    "df_linear = pd.DataFrame({\n",
    "    'whiff_rate_change': whiff_rates,\n",
    "    'velo_change': velo_changes\n",
    "})\n",
    "\n",
    "# Add a constant to the independent variables\n",
    "df_linear['intercept'] = 1.0\n",
    "\n",
    "# Fit the linear regression model\n",
    "linear_model = sm.OLS(df_linear['whiff_rate_change'], df_linear[['intercept', 'velo_change']])\n",
    "result = linear_model.fit()\n",
    "\n",
    "# Print the summary of the linear regression\n",
    "print(result.summary())"
   ]
  },
  {
   "cell_type": "code",
   "execution_count": 19,
   "metadata": {},
   "outputs": [
    {
     "name": "stdout",
     "output_type": "stream",
     "text": [
      "R-squared: 0.33652047595350976\n",
      "Adjusted r-squared: 0.17065059494188717\n"
     ]
    }
   ],
   "source": [
    "print(\"R-squared:\", result.rsquared)\n",
    "print(\"Adjusted r-squared:\", result.rsquared_adj)"
   ]
  },
  {
   "cell_type": "markdown",
   "metadata": {},
   "source": [
    "The linear regression model only explains about 33.65% of the variation in the dv (whiff rate change)."
   ]
  },
  {
   "cell_type": "markdown",
   "metadata": {},
   "source": [
    "Trying again with usage changes."
   ]
  },
  {
   "cell_type": "code",
   "execution_count": 20,
   "metadata": {},
   "outputs": [
    {
     "name": "stdout",
     "output_type": "stream",
     "text": [
      "                            OLS Regression Results                            \n",
      "==============================================================================\n",
      "Dep. Variable:      whiff_rate_change   R-squared:                       0.437\n",
      "Model:                            OLS   Adj. R-squared:                  0.296\n",
      "Method:                 Least Squares   F-statistic:                     3.106\n",
      "Date:                Sat, 01 Mar 2025   Prob (F-statistic):              0.153\n",
      "Time:                        16:29:04   Log-Likelihood:                -14.167\n",
      "No. Observations:                   6   AIC:                             32.33\n",
      "Df Residuals:                       4   BIC:                             31.92\n",
      "Df Model:                           1                                         \n",
      "Covariance Type:            nonrobust                                         \n",
      "================================================================================\n",
      "                   coef    std err          t      P>|t|      [0.025      0.975]\n",
      "--------------------------------------------------------------------------------\n",
      "intercept       -1.6987      1.285     -1.322      0.257      -5.266       1.869\n",
      "usage_change    -0.3050      0.173     -1.762      0.153      -0.785       0.175\n",
      "==============================================================================\n",
      "Omnibus:                          nan   Durbin-Watson:                   2.184\n",
      "Prob(Omnibus):                    nan   Jarque-Bera (JB):                0.410\n",
      "Skew:                           0.349   Prob(JB):                        0.815\n",
      "Kurtosis:                       1.927   Cond. No.                         7.44\n",
      "==============================================================================\n",
      "\n",
      "Notes:\n",
      "[1] Standard Errors assume that the covariance matrix of the errors is correctly specified.\n"
     ]
    },
    {
     "name": "stderr",
     "output_type": "stream",
     "text": [
      "/opt/anaconda3/lib/python3.12/site-packages/statsmodels/stats/stattools.py:74: ValueWarning: omni_normtest is not valid with less than 8 observations; 6 samples were given.\n",
      "  warn(\"omni_normtest is not valid with less than 8 observations; %i \"\n"
     ]
    }
   ],
   "source": [
    "# Prepare the data\n",
    "usage_changes = [fastball_usage_change, sinker_usage_change, slider_usage_change, splitter_usage_change, slurve_usage_change, cutter_usage_change]\n",
    "\n",
    "# Create a DataFrame for the linear regression\n",
    "df_usage_linear = pd.DataFrame({\n",
    "    'whiff_rate_change': whiff_rates,\n",
    "    'usage_change': usage_changes\n",
    "})\n",
    "\n",
    "# Add a constant to the independent variables\n",
    "df_usage_linear['intercept'] = 1.0\n",
    "\n",
    "# Fit the linear regression model\n",
    "usage_linear_model = sm.OLS(df_usage_linear['whiff_rate_change'], df_usage_linear[['intercept', 'usage_change']])\n",
    "usage_result = usage_linear_model.fit()\n",
    "\n",
    "# Print the summary of the linear regression\n",
    "print(usage_result.summary())"
   ]
  },
  {
   "cell_type": "code",
   "execution_count": 21,
   "metadata": {},
   "outputs": [
    {
     "name": "stdout",
     "output_type": "stream",
     "text": [
      "R-squared: 0.43706598266923924\n",
      "Adjusted r-squared: 0.2963324783365491\n"
     ]
    }
   ],
   "source": [
    "print(\"R-squared:\", usage_result.rsquared)\n",
    "print(\"Adjusted r-squared:\", usage_result.rsquared_adj)"
   ]
  },
  {
   "cell_type": "markdown",
   "metadata": {},
   "source": [
    "Shows a low correlation."
   ]
  },
  {
   "cell_type": "code",
   "execution_count": 25,
   "metadata": {},
   "outputs": [],
   "source": [
    "sink_vert_24 = 30.4\n",
    "sink_horz_24 = 9.8\n",
    "sink_total_24 = sink_vert_24 + sink_horz_24\n",
    "cut_vert_24 = 29.3\n",
    "cut_horz_24 = -1.0\n",
    "cut_total_24 = cut_vert_24 + (cut_horz_24 * -1)\n",
    "sl_vert_24 = 39.6\n",
    "sl_horz_24 = -4.5\n",
    "sl_total_24 = sl_vert_24 + (sl_horz_24 * -1)\n",
    "slv_vert_24 = 41.8\n",
    "slv_horz_24 = -15.7\n",
    "slv_total_24 = slv_vert_24 + (slv_horz_24 * -1)\n",
    "spl_vert_24 = 35.8\n",
    "spl_horz_24 = 14.9\n",
    "spl_total_24 = spl_vert_24 + spl_horz_24\n",
    "fb_vert_24 = 23.1\n",
    "fb_horz_24 = 6.6\n",
    "fb_total_24 = fb_vert_24 + fb_horz_24\n",
    "\n",
    "sink_vert_22 = 29.0\n",
    "sink_horz_22 = 9.0\n",
    "sink_total_22 = sink_vert_22 + sink_horz_22\n",
    "slv_vert_22 = 38.0\n",
    "slv_horz_22 = -14.3\n",
    "slv_total_22 = slv_vert_22 + (slv_horz_22 * -1)\n",
    "spl_vert_22 = 34.4\n",
    "spl_horz_22 = 12.0\n",
    "spl_total_22 = spl_vert_22 + spl_horz_22\n",
    "cut_vert_22 = 28.6\n",
    "cut_horz_22 = -2.0\n",
    "cut_total_22 = cut_vert_22 + (cut_horz_22 * -1)\n",
    "fb_vert_22 = 18.0\n",
    "fb_horz_22 = 4.7\n",
    "fb_total_22 = fb_vert_22 + fb_horz_22\n",
    "sl_vert_22 = 40.5\n",
    "sl_horz_22 = -4.9\n",
    "sl_total_22 = sl_vert_22 + (sl_horz_22 * -1)\n",
    "\n",
    "fb_movement_change = fb_total_24 - fb_total_22\n",
    "sink_movement_change = sink_total_24 - sink_total_22\n",
    "sl_movement_change = sl_total_24 - sl_total_22\n",
    "slv_movement_change = slv_total_24 - slv_total_22\n",
    "spl_movement_change = spl_total_24 - spl_total_22\n",
    "cut_movement_change = cut_total_24 - cut_total_22\n"
   ]
  },
  {
   "cell_type": "code",
   "execution_count": 27,
   "metadata": {},
   "outputs": [
    {
     "name": "stdout",
     "output_type": "stream",
     "text": [
      "                            OLS Regression Results                            \n",
      "==============================================================================\n",
      "Dep. Variable:      whiff_rate_change   R-squared:                       0.840\n",
      "Model:                            OLS   Adj. R-squared:                  0.801\n",
      "Method:                 Least Squares   F-statistic:                     21.06\n",
      "Date:                Sat, 01 Mar 2025   Prob (F-statistic):             0.0101\n",
      "Time:                        16:32:34   Log-Likelihood:                -10.385\n",
      "No. Observations:                   6   AIC:                             24.77\n",
      "Df Residuals:                       4   BIC:                             24.35\n",
      "Df Model:                           1                                         \n",
      "Covariance Type:            nonrobust                                         \n",
      "===================================================================================\n",
      "                      coef    std err          t      P>|t|      [0.025      0.975]\n",
      "-----------------------------------------------------------------------------------\n",
      "intercept          -4.5893      0.949     -4.837      0.008      -7.224      -1.955\n",
      "movement_change     1.0606      0.231      4.590      0.010       0.419       1.702\n",
      "==============================================================================\n",
      "Omnibus:                          nan   Durbin-Watson:                   2.228\n",
      "Prob(Omnibus):                    nan   Jarque-Bera (JB):                0.752\n",
      "Skew:                           0.518   Prob(JB):                        0.686\n",
      "Kurtosis:                       1.608   Cond. No.                         5.87\n",
      "==============================================================================\n",
      "\n",
      "Notes:\n",
      "[1] Standard Errors assume that the covariance matrix of the errors is correctly specified.\n"
     ]
    },
    {
     "name": "stderr",
     "output_type": "stream",
     "text": [
      "/opt/anaconda3/lib/python3.12/site-packages/statsmodels/stats/stattools.py:74: ValueWarning: omni_normtest is not valid with less than 8 observations; 6 samples were given.\n",
      "  warn(\"omni_normtest is not valid with less than 8 observations; %i \"\n"
     ]
    }
   ],
   "source": [
    "# Prepare the data\n",
    "movement_change = [fb_movement_change, sink_movement_change, sl_movement_change, spl_movement_change, slv_movement_change, cut_movement_change]\n",
    "\n",
    "# Create a DataFrame for the linear regression\n",
    "df_movement_linear = pd.DataFrame({\n",
    "    'whiff_rate_change': whiff_rates,\n",
    "    'movement_change': movement_change\n",
    "})\n",
    "\n",
    "# Add a constant to the independent variables\n",
    "df_movement_linear['intercept'] = 1.0\n",
    "\n",
    "# Fit the linear regression model\n",
    "movement_linear_model = sm.OLS(df_movement_linear['whiff_rate_change'], df_movement_linear[['intercept', 'movement_change']])\n",
    "movement_result = movement_linear_model.fit()\n",
    "\n",
    "# Print the summary of the linear regression\n",
    "print(movement_result.summary())"
   ]
  },
  {
   "cell_type": "code",
   "execution_count": 28,
   "metadata": {},
   "outputs": [
    {
     "name": "stdout",
     "output_type": "stream",
     "text": [
      "R-squared: 0.8404065848900376\n",
      "Adjusted r-squared: 0.800508231112547\n"
     ]
    }
   ],
   "source": [
    "print(\"R-squared:\", movement_result.rsquared)\n",
    "print(\"Adjusted r-squared:\", movement_result.rsquared_adj)"
   ]
  },
  {
   "cell_type": "code",
   "execution_count": 35,
   "metadata": {},
   "outputs": [
    {
     "data": {
      "image/png": "[encoded data removed]",
      "text/plain": [
       "<Figure size 1000x600 with 1 Axes>"
      ]
     },
     "metadata": {},
     "output_type": "display_data"
    }
   ],
   "source": [
    "# Prepare the data\n",
    "pitch_types = ['Fastball', 'Sinker', 'Slider', 'Splitter', 'Slurve', 'Cutter']\n",
    "movement_changes = [fb_movement_change, sink_movement_change, sl_movement_change, spl_movement_change, slv_movement_change, cut_movement_change]\n",
    "whiff_rate_changes = [fb_whiff_change, sink_whiff_change, sl_whiff_change, spl_whiff_change, slv_whiff_change, cut_whiff_change]\n",
    "\n",
    "# Create a DataFrame for plotting\n",
    "df_plot = pd.DataFrame({\n",
    "    'Pitch Type': pitch_types,\n",
    "    'Movement Change': movement_changes,\n",
    "    'Whiff Rate Change': whiff_rate_changes\n",
    "})\n",
    "\n",
    "# Plot the data\n",
    "fig, ax = plt.subplots(figsize=(10, 6))\n",
    "bar_width = 0.35\n",
    "index = range(len(pitch_types))\n",
    "\n",
    "bar1 = ax.bar(index, df_plot['Movement Change'], bar_width, label='Movement Change')\n",
    "bar2 = ax.bar([i + bar_width for i in index], df_plot['Whiff Rate Change'], bar_width, label='Whiff Rate Change')\n",
    "\n",
    "ax.set_xlabel('Pitch Type')\n",
    "ax.set_ylabel('Change')\n",
    "ax.set_title('Change in Pitch Movement and Whiff Rates')\n",
    "ax.set_xticks([i + bar_width / 2 for i in index])\n",
    "ax.set_xticklabels(pitch_types)\n",
    "ax.legend()\n",
    "\n",
    "plt.show()"
   ]
  },
  {
   "cell_type": "markdown",
   "metadata": {},
   "source": [
    "There's a result here! The R-squared value of 0.84 means that 84% of the variation in the dependent variable (change in pitch movement) is explained by the independent variable (whiff rates). This is a really strong fit, and it's definitely worth noting a few pitches here that we can dive deeper into: \n",
    "\n",
    "*the sinker, although it moves more in total, ended up having a drop in whiff rate. This is generally known as a contact pitch, and league average sinker whiff rate is around 17.4%, but it raises eyebrows here.\n",
    "\n",
    "*additionally, the cutter had a huge dropoff in whiff change (despite typically being known as a contact pitch).\n",
    "\n",
    "*Stroman's splitter increased in total movement, but saw a tiny drop in whiff rate.\n",
    "\n",
    "Let's try applying this to the run value of each pitch to see if there's a legitimate correlation between the change in movement profile of each pitch and the measured success of each pitch."
   ]
  },
  {
   "cell_type": "code",
   "execution_count": 30,
   "metadata": {},
   "outputs": [],
   "source": [
    "sink_rv_22 = 14\n",
    "slv_rv_22 = 5\n",
    "spl_rv_22 = -6\n",
    "cut_rv_22 = -3\n",
    "fb_rv_22 = 0\n",
    "sl_rv_22 = -1\n",
    "\n",
    "sink_rv_24 = 1\n",
    "cut_rv_24 = 2\n",
    "sl_rv_24 = -11\n",
    "slv_rv_24 = -3\n",
    "spl_rv_24 = 1\n",
    "fb_rv_24 = -2\n",
    "\n",
    "sink_rv_change = sink_rv_24 - sink_rv_22\n",
    "cut_rv_change = cut_rv_24 - cut_rv_22\n",
    "sl_rv_change = sl_rv_24 - sl_rv_22\n",
    "slv_rv_change = slv_rv_24 - slv_rv_22\n",
    "spl_rv_change = spl_rv_24 - spl_rv_22\n",
    "fb_rv_change = fb_rv_24 - fb_rv_22\n"
   ]
  },
  {
   "cell_type": "code",
   "execution_count": 31,
   "metadata": {},
   "outputs": [
    {
     "name": "stdout",
     "output_type": "stream",
     "text": [
      "                            OLS Regression Results                            \n",
      "==============================================================================\n",
      "Dep. Variable:              rv_change   R-squared:                       0.017\n",
      "Model:                            OLS   Adj. R-squared:                 -0.229\n",
      "Method:                 Least Squares   F-statistic:                   0.06843\n",
      "Date:                Sat, 01 Mar 2025   Prob (F-statistic):              0.807\n",
      "Time:                        16:44:51   Log-Likelihood:                -20.552\n",
      "No. Observations:                   6   AIC:                             45.10\n",
      "Df Residuals:                       4   BIC:                             44.69\n",
      "Df Model:                           1                                         \n",
      "Covariance Type:            nonrobust                                         \n",
      "===================================================================================\n",
      "                      coef    std err          t      P>|t|      [0.025      0.975]\n",
      "-----------------------------------------------------------------------------------\n",
      "intercept          -4.4379      5.165     -0.859      0.439     -18.779       9.903\n",
      "movement_change     0.3291      1.258      0.262      0.807      -3.164       3.822\n",
      "==============================================================================\n",
      "Omnibus:                          nan   Durbin-Watson:                   2.378\n",
      "Prob(Omnibus):                    nan   Jarque-Bera (JB):                0.676\n",
      "Skew:                           0.321   Prob(JB):                        0.713\n",
      "Kurtosis:                       1.486   Cond. No.                         5.87\n",
      "==============================================================================\n",
      "\n",
      "Notes:\n",
      "[1] Standard Errors assume that the covariance matrix of the errors is correctly specified.\n"
     ]
    },
    {
     "name": "stderr",
     "output_type": "stream",
     "text": [
      "/opt/anaconda3/lib/python3.12/site-packages/statsmodels/stats/stattools.py:74: ValueWarning: omni_normtest is not valid with less than 8 observations; 6 samples were given.\n",
      "  warn(\"omni_normtest is not valid with less than 8 observations; %i \"\n"
     ]
    }
   ],
   "source": [
    "# Prepare the data\n",
    "rv_changes = [fb_rv_change, sink_rv_change, sl_rv_change, spl_rv_change, slv_rv_change, cut_rv_change]\n",
    "\n",
    "# Create a DataFrame for the linear regression\n",
    "df_rv_movement_linear = pd.DataFrame({\n",
    "    'rv_change': rv_changes,\n",
    "    'movement_change': movement_change\n",
    "})\n",
    "\n",
    "# Add a constant to the independent variables\n",
    "df_rv_movement_linear['intercept'] = 1.0\n",
    "\n",
    "# Fit the linear regression model\n",
    "rv_movement_linear_model = sm.OLS(df_rv_movement_linear['rv_change'], df_rv_movement_linear[['intercept', 'movement_change']])\n",
    "rv_movement_result = rv_movement_linear_model.fit()\n",
    "\n",
    "# Print the summary of the linear regression\n",
    "print(rv_movement_result.summary())"
   ]
  },
  {
   "cell_type": "code",
   "execution_count": 32,
   "metadata": {},
   "outputs": [
    {
     "name": "stdout",
     "output_type": "stream",
     "text": [
      "R-squared: 0.016820884606823627\n",
      "Adjusted r-squared: -0.22897389424147052\n"
     ]
    }
   ],
   "source": [
    "print(\"R-squared:\", rv_movement_result.rsquared)\n",
    "print(\"Adjusted r-squared:\", rv_movement_result.rsquared_adj)"
   ]
  },
  {
   "cell_type": "markdown",
   "metadata": {},
   "source": [
    "Ok, so no correlation between the change in run value and the change in pitch movement. Is it possible that the change in movement is related to the change in velocity?"
   ]
  },
  {
   "cell_type": "code",
   "execution_count": 36,
   "metadata": {},
   "outputs": [
    {
     "name": "stdout",
     "output_type": "stream",
     "text": [
      "                            OLS Regression Results                            \n",
      "==============================================================================\n",
      "Dep. Variable:        movement_change   R-squared:                       0.523\n",
      "Model:                            OLS   Adj. R-squared:                  0.404\n",
      "Method:                 Least Squares   F-statistic:                     4.388\n",
      "Date:                Sat, 01 Mar 2025   Prob (F-statistic):              0.104\n",
      "Time:                        16:53:55   Log-Likelihood:                -12.794\n",
      "No. Observations:                   6   AIC:                             29.59\n",
      "Df Residuals:                       4   BIC:                             29.17\n",
      "Df Model:                           1                                         \n",
      "Covariance Type:            nonrobust                                         \n",
      "===============================================================================\n",
      "                  coef    std err          t      P>|t|      [0.025      0.975]\n",
      "-------------------------------------------------------------------------------\n",
      "intercept      -3.1126      3.024     -1.029      0.361     -11.508       5.283\n",
      "velo_change    -2.6104      1.246     -2.095      0.104      -6.070       0.849\n",
      "==============================================================================\n",
      "Omnibus:                          nan   Durbin-Watson:                   1.989\n",
      "Prob(Omnibus):                    nan   Jarque-Bera (JB):                0.612\n",
      "Skew:                           0.352   Prob(JB):                        0.736\n",
      "Kurtosis:                       1.603   Cond. No.                         8.29\n",
      "==============================================================================\n",
      "\n",
      "Notes:\n",
      "[1] Standard Errors assume that the covariance matrix of the errors is correctly specified.\n"
     ]
    },
    {
     "name": "stderr",
     "output_type": "stream",
     "text": [
      "/opt/anaconda3/lib/python3.12/site-packages/statsmodels/stats/stattools.py:74: ValueWarning: omni_normtest is not valid with less than 8 observations; 6 samples were given.\n",
      "  warn(\"omni_normtest is not valid with less than 8 observations; %i \"\n"
     ]
    }
   ],
   "source": [
    "# Prepare the data\n",
    "velo_changes = [fb_velo_change, si_velo_change, sl_velo_change, spl_velo_change, slu_velo_change, cut_velo_change]\n",
    "movement_changes = [fb_movement_change, sink_movement_change, sl_movement_change, spl_movement_change, slv_movement_change, cut_movement_change]\n",
    "\n",
    "# Create a DataFrame for the linear regression\n",
    "df_velocity_movement = pd.DataFrame({\n",
    "    'velo_change': velo_changes,\n",
    "    'movement_change': movement_changes\n",
    "})\n",
    "\n",
    "# Add a constant to the independent variables\n",
    "df_velocity_movement['intercept'] = 1.0\n",
    "\n",
    "# Fit the linear regression model\n",
    "velocity_movement_model = sm.OLS(df_velocity_movement['movement_change'], df_velocity_movement[['intercept', 'velo_change']])\n",
    "velocity_movement_result = velocity_movement_model.fit()\n",
    "\n",
    "# Print the summary of the linear regression\n",
    "print(velocity_movement_result.summary())"
   ]
  },
  {
   "cell_type": "code",
   "execution_count": 37,
   "metadata": {},
   "outputs": [
    {
     "name": "stdout",
     "output_type": "stream",
     "text": [
      "R-squared: 0.5231361211884433\n",
      "Adjusted r-squared: 0.40392015148555416\n"
     ]
    }
   ],
   "source": [
    "print(\"R-squared:\", velocity_movement_result.rsquared)\n",
    "print(\"Adjusted r-squared:\", velocity_movement_result.rsquared_adj)"
   ]
  },
  {
   "cell_type": "markdown",
   "metadata": {},
   "source": [
    "Ok, so not a super strong correlation here. It's more likely that there was a change based off of something that Stroman consciously made to each pitch rather than simply losing velocity.\n",
    "\n",
    "Let's start by taking a closer look at the unique movement profiles of each pitch."
   ]
  },
  {
   "cell_type": "code",
   "execution_count": null,
   "metadata": {},
   "outputs": [],
   "source": []
  }
 ],
 "metadata": {
  "kernelspec": {
   "display_name": "base",
   "language": "python",
   "name": "python3"
  },
  "language_info": {
   "codemirror_mode": {
    "name": "ipython",
    "version": 3
   },
   "file_extension": ".py",
   "mimetype": "text/x-python",
   "name": "python",
   "nbconvert_exporter": "python",
   "pygments_lexer": "ipython3",
   "version": "3.12.7"
  }
 },
 "nbformat": 4,
 "nbformat_minor": 2
}
